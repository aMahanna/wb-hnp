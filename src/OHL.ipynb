{
 "cells": [
  {
   "cell_type": "markdown",
   "metadata": {},
   "source": [
    "### Create Event Database"
   ]
  },
  {
   "cell_type": "code",
   "execution_count": 124,
   "metadata": {},
   "outputs": [],
   "source": [
    "canada = \"\"\"Civil Marriage Act, July 21 2005, Type: Geopolitical\n",
    "Great Recession in Canada, June 1 2008 - July 23 2009, Type: Economic\n",
    "Harper Government, February 6 2006 - November 4 2015, Type: Geopolitical\n",
    "Quebec Student protests, February 13 2012 - September 7 2012, Type: Geopolitical\n",
    "Lac-Mégantic rail disaster, July 6 2013, Type: Disaster, Deaths: 47\n",
    "Trudeau Government, November 4 2015 - Present, Type: Geopolitical\n",
    "Cannabis Act, June 19 2018, Type: Geopolitical\n",
    "2018 United States–Canada tornado outbreak, September 20 2018, Type: Disaster, Deaths: 1\n",
    "Toronto Raptors NBA Championship, May 30 2019 - June 13 2019, Type: Sporting\n",
    "2020 Canadian pipeline and railway protests, January 7 2020 - March 19 2020, Type: Geopolitical\n",
    "COVID-19, January 25 2020 - Present, Type: Disease, Deaths: 15606\"\"\"\n",
    "\n",
    "us = \"\"\"Bush presidency, January 20 2001 - January 20 2009, Type: Geopolitical\n",
    "2005 Atlantic hurricane season, June 8 2005 - January 6 2006, Type: Disaster, Deaths: 3912\n",
    "Great Recession in US, February 1 2008 - February 1 2009, Type: Economic\n",
    "US Involvement in Iraq, March 1 2003 - December 1 2011, Type: Armed Conflict, Deaths: 4507\n",
    "Obama presidency, January 20 2009 - January 20 2017, Type: Geopolitical\n",
    "Boston Marathon bombing, April 15 2013, Type: Terrorism, Deaths: 3\n",
    "International military intervention against ISIS, June 1 2014 - Present, Type: Armed Conflict, Deaths: 71\n",
    "Trump presidency, January 20 2017 - January 20 2021, Type: Geopolitical\n",
    "2017 Las Vegas shooting, October 1 2017, Type: Terrorism, Deaths: 61\n",
    "George Floyd Protests, May 26 2020 - Present, Type: Social Strife, Deaths: 9\n",
    "COVID-19, January 13 2020 - Present, Type: Disease, Deaths: 367000\"\"\"\n",
    "\n",
    "mexico = \"\"\"Drug War, December 11 2006 - Present, Type: Armed Conflict, Deaths: 41034\n",
    "2006 Elections and Protests, July 2 2006, Type: Social Strife\n",
    "Swine Flu, April 2 2009 - May 6 2009, Type: Disease\n",
    "2012 General Election, July 1 2012, Type: Social Strife\n",
    "Arrest of Los Zetas Leader, July 15 2013, Type: Social Strife\n",
    "Iguala Mass Kidnappings, September 26 2014, Type: Social Strife, Deaths: 6\n",
    "Puebla Earthquake, September 9 2017, Type: Disaster, Deaths: 370\n",
    "Pipeline Explosion, January 18 2019, Type: Disaster, Deaths: 137\n",
    "Salamanca Nightclub Shooting, March 9 2019, Type: Social Strife, Deaths: 15\n",
    "COVID-19, February 28 2020 - Present, Type: Disease, Deaths: 145000\"\"\"\n",
    "\n",
    "\n",
    "iran = \"\"\"Iran-Saudi Proxy Conflict, February 11 1979 - Present, Type: Geopolitical\n",
    "2009 Presidential Elections Protest, June 13 2009 - December 7 2010, Type: Geopolitical, Deaths: 36\n",
    "Sanctions against Central Bank, January 23 2012, Type: Economic\n",
    "Involvement in the Syrian civil war, June 9 2013 - Present, Type: Armed Conflict\n",
    "Iranian intervention in Iraq, June 13 2014 - Present, Type: Armed Conflict, Deaths: 558\n",
    "JCPOA Sanctions Relief, January 1 2016, Type: Economic\n",
    "Resumption of sanctions, May 8 2018, Type: Economic\n",
    "Persian Gulf Crisis, May 5 2019 - Present, Type: Armed Conflict, Deaths: 23\n",
    "COVID-19, May 9 2020 - Present, Type: Disease, Deaths: 55000\n",
    "Assassination of General Qasem Soleimani, January 3 2020, Type: Armed Conflict, Deaths: 1\"\"\"\n",
    "\n",
    "china = \"\"\"2002-2004 SARS Outbreak, November 1 2002-May 1 2004, Type: Disease, Deaths: 774\n",
    "Sichuan Earthquake, May 12 2008, Type: Disaster, Deaths: 69180\n",
    "2010 Yushu Earthquake, April 14 2010, Type: Disaster, Deaths: 2698\n",
    "2010 China Floods, May 10 2010 - September 1 2010, Type: Disaster, Deaths: 3189\n",
    "Belt and Road Initiative, January 1 2013 - Present, Type: Economic\n",
    "Xinjiang Internment Camps, January 1 2017 - Present, Type: Social Strife\n",
    "China-US Trade War, January 1 2018 - Present, Type: Economic\n",
    "HK Protests, March 15 2019 - June 30 2020, Type:Social Strife, Deaths: 5\n",
    "COVID-19, December 1 2019 - Present, Type: Disease\n",
    "Chinese Property Sector Crisis, January 1 2020 - Present, Type: Economic\"\"\"\n",
    "\n",
    "lebanon = \"\"\"2006 Lebanon War, July 12 2006 - August 14 2006, Type: Armed Conflict, Deaths: 888\n",
    "2007 Lebanon Conflict, May 20 2007 - September 7 2007, Type: Armed Conflict, Deaths: 500\n",
    "2008 Lebanon Conflict, May 7 2008 - May 14 2008, Type: Armed Conflict, Deaths: 110\n",
    "Syrian Civil War Spillover, June 17 2011 - August 28 2017, Type: Armed Conflict, Deaths: 1000\n",
    "2011 Lebanese Protests, January 12 2011 - December 15 2011, Type: Social Strife \n",
    "Aoun presidency, October 31 2016 - Present, Type: Geopolitical \n",
    "17 October Revolution, October 17 2019 - Present, Type: Geopolitical\n",
    "Lebanese Liquidity Crisis, August 1 2019 - Present, Type: Economic\n",
    "COVID-19, February 21 2020 - Present, Type: Disease, Deaths: 16000\n",
    "2020 Beirut Explosion, August 4 2020, Type: Disaster\"\"\"\n",
    "\n",
    "ukraine = \"\"\"Orange Revolution, November 22 2004 - January 23 2005, Type: Social Strife\n",
    "Central Europe Floods, May 1 2010 - June 1 2010, Type: Disaster, Deaths: 37\n",
    "Russia-Ukraine Gas Dispute, March 1 2015 - Present, Type: Geopolitical\n",
    "Euromaiden, November 21 2013 - February 23 2014, Type: Social Strife\n",
    "Crimean Annexation, March 18 2014, Type: Armed Conflict \n",
    "War in Donbas, April 6 2014 - Present, Type: Armed Conflict, Deaths: 8000\n",
    "2014 Vrancea Earthquake, November 22 2014, Type: Disaster, Deaths: 0\n",
    "Ukraine Airlines Flight 752, January 8 2020, Type: Armed Conflict, Deaths: 176\n",
    "COVID-19, March 3 2020 - Present, Type: Disease, Deaths: 18000\n",
    "Floods, June 22 2020 - June 24 2020, Type: Disaster, Deaths: 0\"\"\"\n",
    "\n",
    "vietnam=\"\"\"Typhoon Durian, November 25 2006 - December 6 2006, Type: Disaster, Deaths: 85\n",
    "Joins WTO, January 11 2007, Type: Economic\n",
    "2 child policy enacted, July 1 2008, Type: Geopolitical\n",
    "EEU Free Trade Agreement, May 29 2015, Type: Economic\n",
    "Tropical Storm Dianmu, August 21 2016, Type: Disaster, Deaths: 17\n",
    "Marine Life Disaster, April 6 2016, Type: Disaster, Deaths: 1\n",
    "CPTPP comes into effect, December 30 2018, Type: Economic\n",
    "COVID-19, January 23 2020 - Present, Type: Disease, Deaths: 35\n",
    "EU Free Trade Agreement, August 1 2020, Type: Economic\n",
    "2020 Central Vietnam Floods, October 5 2020 - November 21 2020, Type: Disaster, Deaths: 189\"\"\"\n",
    "\n",
    "india = \"\"\"Kashmir Earthquake, October 8 2005, Type: Disaster, Deaths: 86000\n",
    "Indo-US Nuke Deal, February 2 2009, Type: Geopolitical\n",
    "Rural Job Scheme Launched, February 1 2006, Type: Economic\n",
    "Samjhauta Express Bombings, February 18 2007, Type: Terrorist, Deaths: 70\n",
    "Mumbai Attacks, November 26 2008, Type: Terrorist, Deaths: 175\n",
    "Homosexual Sex Decriminalized, July 1 2009, Type: Geopolitical\n",
    "Ladakh Floods, August 6 2010, Type: Disaster, Deaths: 255\n",
    "Delhi Gang Rape and Murder, December 16 2012, Type: Social Strife, Deaths: 1 \n",
    "Delhi Riots, February 23 2020- February 29 2020, Type: Social Strife, Deaths: 53\n",
    "COVID-19, January 30 2020 - Present, Type: Disease, Deaths: 150000\"\"\"\n",
    "\n",
    "countries = [canada, us, mexico, iran, china, lebanon, ukraine, vietnam, india]\n",
    "countryNames = [\"Canada\", \"US\", \"Mexico\", \"Iran\", \"China\", \"Lebanon\", \"Ukraine\", \"Vietnam\", \"India\"]"
   ]
  },
  {
   "cell_type": "code",
   "execution_count": 3,
   "metadata": {},
   "outputs": [
    {
     "data": {
      "text/plain": [
       "9"
      ]
     },
     "execution_count": 3,
     "metadata": {},
     "output_type": "execute_result"
    }
   ],
   "source": [
    "len(countries)"
   ]
  },
  {
   "cell_type": "code",
   "execution_count": 42,
   "metadata": {},
   "outputs": [],
   "source": [
    "def getType(s):\n",
    "    return s.split(\":\")[1].strip()\n",
    "stripArr = lambda s: [x.strip() for x in s]"
   ]
  },
  {
   "cell_type": "code",
   "execution_count": 104,
   "metadata": {},
   "outputs": [],
   "source": [
    "months = [\"January\", \"February\", \"March\", \"April\", \"May\", \"June\", \"July\", \"August\", \"September\", \"October\", \"November\", \"December\"]\n",
    "\n",
    "\n",
    "class Date:\n",
    "    def __init__(self, month, day, year):\n",
    "        if type(month) == str:\n",
    "            month = months.index(month) + 1\n",
    "        if type(day) == str:\n",
    "            day = int(day)\n",
    "        if type(year) == str:\n",
    "            year = int(year)\n",
    "        assert type(day) == int\n",
    "        assert type(year) == int\n",
    "        assert type(month) == int\n",
    "        assert month >= 1 and month <= 12\n",
    "        assert year <= 2020 \n",
    "        self.day = day\n",
    "        self.month = month\n",
    "        self.year = year\n",
    "    def monthCalendar(self):\n",
    "        return months[self.month - 1] \n",
    "    def __str__(self):\n",
    "        return \"{} {} {}\".format(self.monthCalendar(), self.day, self.year)"
   ]
  },
  {
   "cell_type": "code",
   "execution_count": 122,
   "metadata": {},
   "outputs": [],
   "source": [
    "def getDictsForCountry(country):\n",
    "    dicts = []\n",
    "    for row in country.split(\"\\n\"):\n",
    "        elements = row.split(\",\")\n",
    "        cleaned = []\n",
    "        for i in range(3):\n",
    "            \n",
    "            cleaned += [elements[i].strip()]\n",
    "        name, date, t = cleaned    \n",
    "        t = getType(t)\n",
    "        deaths = 0 \n",
    "        if len(elements) == 4:\n",
    "            deaths = int(getType(elements[3]))\n",
    "\n",
    "        # Date Transformation\n",
    "        splitDate = date.split(\"-\")\n",
    "        \n",
    "        if len(splitDate) == 1:\n",
    "            date = Date(*date.split(\" \"))\n",
    "            present = past = date\n",
    "        else:\n",
    "            present, past = stripArr(splitDate)\n",
    "            present = Date(*present.split(\" \"))\n",
    "            if past.lower() == \"present\":\n",
    "                past = Date(12, 31, 2020)\n",
    "        \n",
    "        d = {\"Name\": name, \"Start\": present.__str__(), \"End\": past.__str__(), \"Deaths\": deaths}\n",
    "        dicts.append(d)\n",
    "    return dicts"
   ]
  },
  {
   "cell_type": "code",
   "execution_count": 125,
   "metadata": {},
   "outputs": [
    {
     "name": "stdout",
     "output_type": "stream",
     "text": [
      "Writing the country: Canada\n",
      "Writing the country: US\n",
      "Writing the country: Mexico\n",
      "Writing the country: Iran\n",
      "Writing the country: China\n",
      "Writing the country: Lebanon\n",
      "Writing the country: Ukraine\n",
      "Writing the country: Vietnam\n",
      "Writing the country: India\n"
     ]
    }
   ],
   "source": [
    "import csv\n",
    "\n",
    "header = [\"Name\", \"Start Date\", \"End Date\", \"Deaths\"]\n",
    "\n",
    "with open(\"./country_event_data.csv\", \"w+\")  as f:\n",
    "    writer = csv.writer(f)\n",
    "    \n",
    "    for country, name in zip(countries, countryNames):\n",
    "        print(\"Writing the country: \" + name)\n",
    "        dicts = getDictsForCountry(country)\n",
    "        for event in dicts:\n",
    "            writer.writerow([name] + list(event.values()))\n",
    "    "
   ]
  },
  {
   "cell_type": "code",
   "execution_count": null,
   "metadata": {},
   "outputs": [],
   "source": []
  },
  {
   "cell_type": "code",
   "execution_count": null,
   "metadata": {},
   "outputs": [],
   "source": []
  },
  {
   "cell_type": "code",
   "execution_count": null,
   "metadata": {},
   "outputs": [],
   "source": []
  },
  {
   "cell_type": "code",
   "execution_count": null,
   "metadata": {},
   "outputs": [],
   "source": []
  },
  {
   "cell_type": "code",
   "execution_count": null,
   "metadata": {},
   "outputs": [],
   "source": []
  },
  {
   "cell_type": "code",
   "execution_count": null,
   "metadata": {},
   "outputs": [],
   "source": []
  },
  {
   "cell_type": "code",
   "execution_count": null,
   "metadata": {},
   "outputs": [],
   "source": []
  },
  {
   "cell_type": "code",
   "execution_count": null,
   "metadata": {},
   "outputs": [],
   "source": []
  },
  {
   "cell_type": "code",
   "execution_count": null,
   "metadata": {},
   "outputs": [],
   "source": []
  }
 ],
 "metadata": {
  "kernelspec": {
   "display_name": "Python 3",
   "language": "python",
   "name": "python3"
  },
  "language_info": {
   "codemirror_mode": {
    "name": "ipython",
    "version": 3
   },
   "file_extension": ".py",
   "mimetype": "text/x-python",
   "name": "python",
   "nbconvert_exporter": "python",
   "pygments_lexer": "ipython3",
   "version": "3.7.3"
  }
 },
 "nbformat": 4,
 "nbformat_minor": 2
}
